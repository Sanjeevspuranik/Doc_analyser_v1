{
 "cells": [
  {
   "cell_type": "code",
   "execution_count": 3,
   "metadata": {},
   "outputs": [
    {
     "name": "stderr",
     "output_type": "stream",
     "text": [
      "No model was supplied, defaulted to google-t5/t5-small and revision d769bba (https://huggingface.co/google-t5/t5-small).\n",
      "Using a pipeline without specifying a model name and revision in production is not recommended.\n",
      "c:\\Users\\SANJEEVSPURANIK\\.conda\\envs\\DLenv\\lib\\site-packages\\huggingface_hub\\file_download.py:1132: FutureWarning: `resume_download` is deprecated and will be removed in version 1.0.0. Downloads always resume when possible. If you want to force a new download, use `force_download=True`.\n",
      "  warnings.warn(\n",
      "All PyTorch model weights were used when initializing TFT5ForConditionalGeneration.\n",
      "\n",
      "All the weights of TFT5ForConditionalGeneration were initialized from the PyTorch model.\n",
      "If your task is similar to the task the model of the checkpoint was trained on, you can already use TFT5ForConditionalGeneration for predictions without further training.\n"
     ]
    }
   ],
   "source": [
    "import fitz  # PyMuPDF\n",
    "from transformers import pipeline\n",
    "\n",
    "# Initialize summarization pipeline\n",
    "summarizer = pipeline(\"summarization\")\n",
    "\n",
    "def extract_text_from_pdf(pdf_path):\n",
    "    doc = fitz.open(pdf_path)\n",
    "    text = \"\"\n",
    "    for page in doc:\n",
    "        text += page.get_text()\n",
    "    return text\n",
    "\n",
    "text = extract_text_from_pdf(r\"C:\\Doc_analyser\\sample_pdf\\UE18CS352_CC_Unit2.pdf\")"
   ]
  },
  {
   "cell_type": "code",
   "execution_count": 5,
   "metadata": {},
   "outputs": [
    {
     "name": "stderr",
     "output_type": "stream",
     "text": [
      "Token indices sequence length is longer than the specified maximum sequence length for this model (7352 > 512). Running this sequence through the model will result in indexing errors\n"
     ]
    },
    {
     "name": "stdout",
     "output_type": "stream",
     "text": [
      "n/summary\n",
      "[{'summary_text': 'virtualization is a framework for dividing a single hardware resource into multiple independent environments . a virtual machine (VM) is an efficient, isolated duplicate of the physical machine . it is also called transparent virtualization (VMM) . this allows for multiple physical or virtual machines to run on a host .'}]\n"
     ]
    }
   ],
   "source": [
    "summary = summarizer(text, max_length=150, min_length=30, do_sample=False)\n",
    "\n",
    "print(\"n/summary\")\n",
    "print(summary)"
   ]
  },
  {
   "cell_type": "code",
   "execution_count": 6,
   "metadata": {},
   "outputs": [
    {
     "data": {
      "application/vnd.jupyter.widget-view+json": {
       "model_id": "65d47b1a929749c3ba184c56158974b9",
       "version_major": 2,
       "version_minor": 0
      },
      "text/plain": [
       "Textarea(value='Cloud Computing (UE18CS352)\\nUnit 2\\nAronya Baksy\\nFebruary 2021\\n1\\nIntroduction\\n• Virtualiz…"
      ]
     },
     "metadata": {},
     "output_type": "display_data"
    },
    {
     "data": {
      "application/vnd.jupyter.widget-view+json": {
       "model_id": "9b93bd41630847bf9efab0e8bc5b5dbe",
       "version_major": 2,
       "version_minor": 0
      },
      "text/plain": [
       "Textarea(value='', description='Selected Text:', layout=Layout(height='100px', width='100%'), placeholder='Pas…"
      ]
     },
     "metadata": {},
     "output_type": "display_data"
    },
    {
     "data": {
      "application/vnd.jupyter.widget-view+json": {
       "model_id": "16264374358142c9a63ae9b6e105187a",
       "version_major": 2,
       "version_minor": 0
      },
      "text/plain": [
       "Button(description='Summarize Text', icon='check', style=ButtonStyle(), tooltip='Click to summarize the select…"
      ]
     },
     "metadata": {},
     "output_type": "display_data"
    },
    {
     "data": {
      "application/vnd.jupyter.widget-view+json": {
       "model_id": "d433c22889c04fe18e673addab844ddc",
       "version_major": 2,
       "version_minor": 0
      },
      "text/plain": [
       "Textarea(value='', description='Summary:', disabled=True, layout=Layout(height='100px', width='100%'), placeho…"
      ]
     },
     "metadata": {},
     "output_type": "display_data"
    },
    {
     "name": "stderr",
     "output_type": "stream",
     "text": [
      "Your max_length is set to 150, but your input_length is only 147. Since this is a summarization task, where outputs shorter than the input are typically wanted, you might consider decreasing max_length manually, e.g. summarizer('...', max_length=73)\n"
     ]
    }
   ],
   "source": [
    "import ipywidgets as widgets\n",
    "from IPython.display import display\n",
    "\n",
    "def summarize_selected_text(b):\n",
    "    selected_text = selected_text_area.value\n",
    "    if selected_text.strip():\n",
    "        summary = summarizer(selected_text, max_length=150, min_length=30, do_sample=False)\n",
    "        summary_text_area.value = summary[0]['summary_text']\n",
    "    else:\n",
    "        summary_text_area.value = \"Please select some text to summarize.\"\n",
    "\n",
    "\n",
    "# Create widgets\n",
    "extracted_text_area = widgets.Textarea(\n",
    "    value=text,\n",
    "    placeholder='Extracted text will appear here...',\n",
    "    description='Extracted Text:',\n",
    "    disabled=True,\n",
    "    layout=widgets.Layout(width='100%', height='200px')\n",
    ")\n",
    "\n",
    "selected_text_area = widgets.Textarea(\n",
    "    value='',\n",
    "    placeholder='Paste the text you want to summarize here...',\n",
    "    description='Selected Text:',\n",
    "    layout=widgets.Layout(width='100%', height='100px')\n",
    ")\n",
    "\n",
    "summary_text_area = widgets.Textarea(\n",
    "    value='',\n",
    "    placeholder='Summary will appear here...',\n",
    "    description='Summary:',\n",
    "    disabled=True,\n",
    "    layout=widgets.Layout(width='100%', height='100px')\n",
    ")\n",
    "\n",
    "summarize_button = widgets.Button(\n",
    "    description='Summarize Text',\n",
    "    disabled=False,\n",
    "    button_style='',  # 'success', 'info', 'warning', 'danger' or ''\n",
    "    tooltip='Click to summarize the selected text',\n",
    "    icon='check'\n",
    ")\n",
    "\n",
    "# Attach event handler to button\n",
    "summarize_button.on_click(summarize_selected_text)\n",
    "\n",
    "# Display widgets\n",
    "display(extracted_text_area)\n",
    "display(selected_text_area)\n",
    "display(summarize_button)\n",
    "display(summary_text_area)"
   ]
  },
  {
   "cell_type": "code",
   "execution_count": null,
   "metadata": {},
   "outputs": [],
   "source": []
  }
 ],
 "metadata": {
  "kernelspec": {
   "display_name": "DLenv",
   "language": "python",
   "name": "python3"
  },
  "language_info": {
   "codemirror_mode": {
    "name": "ipython",
    "version": 3
   },
   "file_extension": ".py",
   "mimetype": "text/x-python",
   "name": "python",
   "nbconvert_exporter": "python",
   "pygments_lexer": "ipython3",
   "version": "3.10.14"
  }
 },
 "nbformat": 4,
 "nbformat_minor": 2
}
